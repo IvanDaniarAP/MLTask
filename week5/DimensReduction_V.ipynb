{
  "nbformat": 4,
  "nbformat_minor": 0,
  "metadata": {
    "colab": {
      "provenance": [],
      "authorship_tag": "ABX9TyOhpIa/Gt2Pyo9A+WY/fwdI",
      "include_colab_link": true
    },
    "kernelspec": {
      "name": "python3",
      "display_name": "Python 3"
    },
    "language_info": {
      "name": "python"
    }
  },
  "cells": [
    {
      "cell_type": "markdown",
      "metadata": {
        "id": "view-in-github",
        "colab_type": "text"
      },
      "source": [
        "<a href=\"https://colab.research.google.com/github/IvanDaniarAP/MLTask/blob/main/week5/DimensReduction_V.ipynb\" target=\"_parent\"><img src=\"https://colab.research.google.com/assets/colab-badge.svg\" alt=\"Open In Colab\"/></a>"
      ]
    },
    {
      "cell_type": "code",
      "execution_count": 6,
      "metadata": {
        "colab": {
          "base_uri": "https://localhost:8080/"
        },
        "id": "P5HPjzeplf8r",
        "outputId": "bf216e04-62fb-4886-c58f-d215e1499b24"
      },
      "outputs": [
        {
          "output_type": "stream",
          "name": "stdout",
          "text": [
            "jumlah baris 150\n"
          ]
        }
      ],
      "source": [
        "from sklearn import datasets\n",
        "from sklearn.model_selection import train_test_split\n",
        "iris=datasets.load_iris()\n",
        "atribut = iris.data\n",
        "label=iris.target\n",
        "#check ds\n",
        "baris=len(atribut)\n",
        "print(\"jumlah baris\",baris)\n",
        "#spliting datasets\n",
        "X_train,X_test,y_train,y_test=train_test_split(atribut,label,test_size=0.2)"
      ]
    },
    {
      "cell_type": "code",
      "source": [
        "\n",
        "from sklearn import tree\n",
        "decision_tree=tree.DecisionTreeClassifier()\n",
        "model_nodimensionalityred=decision_tree.fit(X_train,y_train)\n",
        "model_nodimensionalityred.score(X_test, y_test)"
      ],
      "metadata": {
        "colab": {
          "base_uri": "https://localhost:8080/"
        },
        "id": "09xZpew6lp1T",
        "outputId": "88a037eb-d06c-47f9-8ebc-07505c7ac0fe"
      },
      "execution_count": 9,
      "outputs": [
        {
          "output_type": "execute_result",
          "data": {
            "text/plain": [
              "0.9666666666666667"
            ]
          },
          "metadata": {},
          "execution_count": 9
        }
      ]
    },
    {
      "cell_type": "code",
      "source": [
        "\n",
        "from sklearn.decomposition import PCA\n",
        "#membuat 4 principal component\n",
        "pca=PCA(n_components=4)\n",
        "#mengaplikasikan PCA pada dataset\n",
        "pca_attributes=pca.fit_transform(X_train)\n",
        "#melihat vvariance dari setiap atribut\n",
        "pca.explained_variance_ratio_\n",
        ""
      ],
      "metadata": {
        "colab": {
          "base_uri": "https://localhost:8080/"
        },
        "id": "4BGtZ3fVlp31",
        "outputId": "e806c63f-f608-4887-c105-6ff7ad02c499"
      },
      "execution_count": 10,
      "outputs": [
        {
          "output_type": "execute_result",
          "data": {
            "text/plain": [
              "array([0.92552236, 0.05137806, 0.01761631, 0.00548327])"
            ]
          },
          "metadata": {},
          "execution_count": 10
        }
      ]
    },
    {
      "cell_type": "code",
      "source": [
        "#2 principal component\n",
        "pca=PCA(n_components=2)\n",
        "X_train_pca=pca.fit_transform(X_train)\n",
        "X_test_pca=pca.fit_transform(X_test)"
      ],
      "metadata": {
        "id": "oty8dnQ5lp5l"
      },
      "execution_count": 11,
      "outputs": []
    },
    {
      "cell_type": "code",
      "source": [
        "\n",
        "#uji akurasi model dengan pca dim reduc\n",
        "model_dengan_PCA_2_components=decision_tree.fit(X_train_pca,y_train)\n",
        "model_dengan_PCA_2_components.score(X_test_pca, y_test)"
      ],
      "metadata": {
        "colab": {
          "base_uri": "https://localhost:8080/"
        },
        "id": "tdrcQocYlp99",
        "outputId": "7d01c763-ca25-464e-e26a-85c5c10190ce"
      },
      "execution_count": 13,
      "outputs": [
        {
          "output_type": "execute_result",
          "data": {
            "text/plain": [
              "0.6333333333333333"
            ]
          },
          "metadata": {},
          "execution_count": 13
        }
      ]
    },
    {
      "cell_type": "code",
      "source": [
        "\n",
        "#uji akurasi model dengan pca\n",
        "model_dengan_PCA_2_components=decision_tree.fit(X_train_pca,y_train)\n",
        "model_dengan_PCA_2_components.score(X_test_pca, y_test)"
      ],
      "metadata": {
        "colab": {
          "base_uri": "https://localhost:8080/"
        },
        "id": "-XhlSLoklqAt",
        "outputId": "56307288-4fa5-419a-d40b-f543a1dc3798"
      },
      "execution_count": 15,
      "outputs": [
        {
          "output_type": "execute_result",
          "data": {
            "text/plain": [
              "0.6333333333333333"
            ]
          },
          "metadata": {},
          "execution_count": 15
        }
      ]
    },
    {
      "cell_type": "code",
      "source": [],
      "metadata": {
        "id": "HCuadm-klqE2"
      },
      "execution_count": null,
      "outputs": []
    },
    {
      "cell_type": "code",
      "source": [],
      "metadata": {
        "id": "RuUMoQ9BlqH2"
      },
      "execution_count": null,
      "outputs": []
    },
    {
      "cell_type": "code",
      "source": [],
      "metadata": {
        "id": "4E41ZvT1lqKl"
      },
      "execution_count": null,
      "outputs": []
    },
    {
      "cell_type": "code",
      "source": [],
      "metadata": {
        "id": "7z_bf2W4lqNV"
      },
      "execution_count": null,
      "outputs": []
    },
    {
      "cell_type": "code",
      "source": [],
      "metadata": {
        "id": "Juc5osjtlqQd"
      },
      "execution_count": null,
      "outputs": []
    },
    {
      "cell_type": "code",
      "source": [],
      "metadata": {
        "id": "qBOPfpPGlqTX"
      },
      "execution_count": null,
      "outputs": []
    },
    {
      "cell_type": "code",
      "source": [],
      "metadata": {
        "id": "mvuRE5DqlqV-"
      },
      "execution_count": null,
      "outputs": []
    },
    {
      "cell_type": "code",
      "source": [],
      "metadata": {
        "id": "RMuMW3ZMlqYt"
      },
      "execution_count": null,
      "outputs": []
    },
    {
      "cell_type": "code",
      "source": [],
      "metadata": {
        "id": "KOlt19YelqbW"
      },
      "execution_count": null,
      "outputs": []
    },
    {
      "cell_type": "code",
      "source": [],
      "metadata": {
        "id": "whsAENx5lqem"
      },
      "execution_count": null,
      "outputs": []
    }
  ]
}