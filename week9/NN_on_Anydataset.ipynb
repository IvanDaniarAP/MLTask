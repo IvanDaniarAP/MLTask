{
  "nbformat": 4,
  "nbformat_minor": 0,
  "metadata": {
    "colab": {
      "provenance": [],
      "authorship_tag": "ABX9TyOGaMhUHBzpTp4iWCLaciUN",
      "include_colab_link": true
    },
    "kernelspec": {
      "name": "python3",
      "display_name": "Python 3"
    },
    "language_info": {
      "name": "python"
    }
  },
  "cells": [
    {
      "cell_type": "markdown",
      "metadata": {
        "id": "view-in-github",
        "colab_type": "text"
      },
      "source": [
        "<a href=\"https://colab.research.google.com/github/IvanDaniarAP/MLTask/blob/main/week9/NN_on_Anydataset.ipynb\" target=\"_parent\"><img src=\"https://colab.research.google.com/assets/colab-badge.svg\" alt=\"Open In Colab\"/></a>"
      ]
    },
    {
      "cell_type": "code",
      "execution_count": 10,
      "metadata": {
        "id": "AYfoAsUjzyY8"
      },
      "outputs": [],
      "source": [
        "import numpy as np\n",
        "import pandas as pd\n",
        "\n",
        "%matplotlib inline\n",
        "import matplotlib.pyplot as plt\n",
        "import matplotlib.cm as cm\n",
        "\n",
        "import tensorflow as tf\n",
        "\n",
        "# settings\n",
        "LEARNING_RATE = 1e-4\n",
        "# set to 20000 on local environment to get 0.99 accuracy\n",
        "TRAINING_ITERATIONS = 2500\n",
        "\n",
        "DROPOUT = 0.5\n",
        "BATCH_SIZE = 50\n",
        "\n",
        "# set to 0 to train on all available data\n",
        "VALIDATION_SIZE = 2000\n",
        "\n",
        "# image number to output\n",
        "IMAGE_TO_DISPLAY = 10"
      ]
    },
    {
      "cell_type": "code",
      "source": [
        "# read training data from CSV file\n",
        "data = pd.read_csv('/content/train.csv')\n",
        "\n",
        "print('data({0[0]},{0[1]})'.format(data.shape))\n",
        "print (data.head())"
      ],
      "metadata": {
        "colab": {
          "base_uri": "https://localhost:8080/"
        },
        "id": "B9OqRObRz2bM",
        "outputId": "ba9539df-837a-4578-ca3e-5f1ff4e05a54"
      },
      "execution_count": 11,
      "outputs": [
        {
          "output_type": "stream",
          "name": "stdout",
          "text": [
            "data(891,12)\n",
            "   PassengerId  Survived  Pclass  \\\n",
            "0            1         0       3   \n",
            "1            2         1       1   \n",
            "2            3         1       3   \n",
            "3            4         1       1   \n",
            "4            5         0       3   \n",
            "\n",
            "                                                Name     Sex   Age  SibSp  \\\n",
            "0                            Braund, Mr. Owen Harris    male  22.0      1   \n",
            "1  Cumings, Mrs. John Bradley (Florence Briggs Th...  female  38.0      1   \n",
            "2                             Heikkinen, Miss. Laina  female  26.0      0   \n",
            "3       Futrelle, Mrs. Jacques Heath (Lily May Peel)  female  35.0      1   \n",
            "4                           Allen, Mr. William Henry    male  35.0      0   \n",
            "\n",
            "   Parch            Ticket     Fare Cabin Embarked  \n",
            "0      0         A/5 21171   7.2500   NaN        S  \n",
            "1      0          PC 17599  71.2833   C85        C  \n",
            "2      0  STON/O2. 3101282   7.9250   NaN        S  \n",
            "3      0            113803  53.1000  C123        S  \n",
            "4      0            373450   8.0500   NaN        S  \n"
          ]
        }
      ]
    },
    {
      "cell_type": "code",
      "source": [
        "import numpy as np\n",
        "import pandas as pd\n",
        "\n",
        "# Assuming you want to exclude the first column (index 0) which may contain non-numeric values\n",
        "numeric_data = data.iloc[:, 1:].copy()\n",
        "\n",
        "# Convert each column to numeric, handling errors by coercing non-numeric values to NaN\n",
        "for column in numeric_data.columns:\n",
        "    numeric_data[column] = pd.to_numeric(numeric_data[column], errors='coerce')\n",
        "\n",
        "# Fill NaN values with a specific value or use other imputation strategies if needed\n",
        "numeric_data = numeric_data.fillna(0)  # Replace NaN with 0, adjust as needed\n",
        "\n",
        "# Convert numeric data from [0:255] => [0.0:1.0]\n",
        "numeric_data = numeric_data.astype(np.float) / 255.0\n",
        "\n",
        "print('numeric_data({0},{1})'.format(numeric_data.shape[0], numeric_data.shape[1]))\n"
      ],
      "metadata": {
        "colab": {
          "base_uri": "https://localhost:8080/"
        },
        "id": "GYfQvtwUz3LO",
        "outputId": "894d3353-5c8d-4d45-b356-2a0b4ef24362"
      },
      "execution_count": 12,
      "outputs": [
        {
          "output_type": "stream",
          "name": "stdout",
          "text": [
            "numeric_data(891,11)\n"
          ]
        },
        {
          "output_type": "stream",
          "name": "stderr",
          "text": [
            "<ipython-input-12-f21f08eb551f>:15: DeprecationWarning: `np.float` is a deprecated alias for the builtin `float`. To silence this warning, use `float` by itself. Doing this will not modify any behavior and is safe. If you specifically wanted the numpy scalar type, use `np.float64` here.\n",
            "Deprecated in NumPy 1.20; for more details and guidance: https://numpy.org/devdocs/release/1.20.0-notes.html#deprecations\n",
            "  numeric_data = numeric_data.astype(np.float) / 255.0\n"
          ]
        }
      ]
    },
    {
      "cell_type": "code",
      "source": [
        "image_size = images.shape[1]\n",
        "print ('image_size => {0}'.format(image_size))\n",
        "\n",
        "# in this case all images are square\n",
        "image_width = image_height = np.ceil(np.sqrt(image_size)).astype(np.uint8)\n",
        "\n",
        "print ('image_width => {0}\\nimage_height => {1}'.format(image_width,image_height))"
      ],
      "metadata": {
        "colab": {
          "base_uri": "https://localhost:8080/"
        },
        "id": "eLUqoj50z5i_",
        "outputId": "0714456c-2581-49f1-fe90-c94cd8714e06"
      },
      "execution_count": 13,
      "outputs": [
        {
          "output_type": "stream",
          "name": "stdout",
          "text": [
            "image_size => 11\n",
            "image_width => 4\n",
            "image_height => 4\n"
          ]
        }
      ]
    },
    {
      "cell_type": "code",
      "source": [
        "import matplotlib.pyplot as plt\n",
        "import matplotlib.cm as cm\n",
        "import numpy as np\n",
        "\n",
        "# Assuming image_width and image_height are defined somewhere in your code\n",
        "image_width = 28\n",
        "image_height = 28\n",
        "\n",
        "# Assuming IMAGE_TO_DISPLAY is defined somewhere in your code\n",
        "IMAGE_TO_DISPLAY = 0  # Change this to the index of the image you want to display\n",
        "\n",
        "# display image\n",
        "def display(img):\n",
        "    # Handle non-numeric values by converting them to NaN\n",
        "    img = pd.to_numeric(img, errors='coerce')\n",
        "    img = np.asarray(img).astype(float)\n",
        "\n",
        "    print(\"Image shape before reshaping:\", img.shape)  # Add this line\n",
        "    # Assuming img is a 1D array with size equal to 11\n",
        "    # Reshape to a square (if possible) or handle based on your data\n",
        "    square_size = int(np.sqrt(img.size))\n",
        "    one_image = img[:square_size * square_size].reshape(square_size, square_size)\n",
        "\n",
        "    plt.axis('off')\n",
        "    plt.imshow(one_image, cmap=cm.binary)\n",
        "    plt.show()\n",
        "\n",
        "# output image\n",
        "display(images[IMAGE_TO_DISPLAY])\n"
      ],
      "metadata": {
        "colab": {
          "base_uri": "https://localhost:8080/",
          "height": 423
        },
        "id": "AV6_izIWz5qW",
        "outputId": "6647a517-dc44-46e4-c118-ca809e049b73"
      },
      "execution_count": 21,
      "outputs": [
        {
          "output_type": "stream",
          "name": "stdout",
          "text": [
            "Image shape before reshaping: (11,)\n"
          ]
        },
        {
          "output_type": "display_data",
          "data": {
            "text/plain": [
              "<Figure size 640x480 with 1 Axes>"
            ],
            "image/png": "[encoded data removed]"
          },
          "metadata": {}
        }
      ]
    },
    {
      "cell_type": "code",
      "source": [
        "import pandas as pd\n",
        "\n",
        "# Assuming data is your DataFrame, and IMAGE_TO_DISPLAY is defined somewhere in your code\n",
        "IMAGE_TO_DISPLAY = 0  # Change this to the index of the image you want to display\n",
        "\n",
        "# Extract labels\n",
        "labels_flat = data.iloc[:, 0].values.ravel()\n",
        "\n",
        "print('labels_flat({0})'.format(len(labels_flat)))\n",
        "print('labels_flat[{0}] => {1}'.format(IMAGE_TO_DISPLAY, labels_flat[IMAGE_TO_DISPLAY]))\n"
      ],
      "metadata": {
        "colab": {
          "base_uri": "https://localhost:8080/"
        },
        "id": "gr9CI9bBz5s3",
        "outputId": "c83aafed-54c0-4ebe-c788-a67eadce2a8b"
      },
      "execution_count": 24,
      "outputs": [
        {
          "output_type": "stream",
          "name": "stdout",
          "text": [
            "labels_flat(891)\n",
            "labels_flat[0] => 1\n"
          ]
        }
      ]
    },
    {
      "cell_type": "code",
      "source": [
        "labels_count = np.unique(labels_flat).shape[0]\n",
        "\n",
        "print('labels_count => {0}'.format(labels_count))"
      ],
      "metadata": {
        "colab": {
          "base_uri": "https://localhost:8080/"
        },
        "id": "Gh7gp8Xhz5vQ",
        "outputId": "4de62fa5-d741-4c3f-d7f6-44b73128161a"
      },
      "execution_count": 25,
      "outputs": [
        {
          "output_type": "stream",
          "name": "stdout",
          "text": [
            "labels_count => 891\n"
          ]
        }
      ]
    },
    {
      "cell_type": "code",
      "source": [
        "def dense_to_one_hot(labels_dense, num_classes):\n",
        "    num_labels = labels_dense.shape[0]\n",
        "    index_offset = np.arange(num_labels) * num_classes\n",
        "    labels_one_hot = np.zeros((num_labels, num_classes))\n",
        "\n",
        "    print(\"num_labels:\", num_labels)\n",
        "    print(\"index_offset shape:\", index_offset.shape)\n",
        "    print(\"labels_one_hot shape:\", labels_one_hot.shape)\n",
        "\n",
        "    try:\n",
        "        labels_one_hot.flat[index_offset + labels_dense.ravel()] = 1\n",
        "    except IndexError as e:\n",
        "        print(\"IndexError:\", e)\n",
        "\n",
        "    return labels_one_hot\n",
        "\n",
        "# Assuming labels_flat and labels_count are defined somewhere in your code\n",
        "labels = dense_to_one_hot(labels_flat, labels_count)\n",
        "labels = labels.astype(np.uint8)\n",
        "\n",
        "print('labels shape:', labels.shape)\n"
      ],
      "metadata": {
        "colab": {
          "base_uri": "https://localhost:8080/"
        },
        "id": "YaW5LQQAz5xo",
        "outputId": "5d57bbb3-757e-47fd-be13-7ca7dd9a9fc1"
      },
      "execution_count": 28,
      "outputs": [
        {
          "output_type": "stream",
          "name": "stdout",
          "text": [
            "num_labels: 891\n",
            "index_offset shape: (891,)\n",
            "labels_one_hot shape: (891, 891)\n",
            "IndexError: index 793881 is out of bounds for size 793881\n",
            "labels shape: (891, 891)\n"
          ]
        }
      ]
    },
    {
      "cell_type": "code",
      "source": [
        "# split data into training & validation\n",
        "validation_images = images[:VALIDATION_SIZE]\n",
        "validation_labels = labels[:VALIDATION_SIZE]\n",
        "\n",
        "train_images = images[VALIDATION_SIZE:]\n",
        "train_labels = labels[VALIDATION_SIZE:]\n",
        "\n",
        "\n",
        "print('train_images({0[0]},{0[1]})'.format(train_images.shape))\n",
        "print('validation_images({0[0]},{0[1]})'.format(validation_images.shape))"
      ],
      "metadata": {
        "colab": {
          "base_uri": "https://localhost:8080/"
        },
        "id": "CCLzBlg2z50Q",
        "outputId": "98297537-897a-424e-9510-db35350310ed"
      },
      "execution_count": 29,
      "outputs": [
        {
          "output_type": "stream",
          "name": "stdout",
          "text": [
            "train_images(0,11)\n",
            "validation_images(891,11)\n"
          ]
        }
      ]
    },
    {
      "cell_type": "code",
      "source": [
        "# weight initialization\n",
        "def weight_variable(shape):\n",
        "    initial = tf.truncated_normal(shape, stddev=0.1)\n",
        "    return tf.Variable(initial)\n",
        "\n",
        "def bias_variable(shape):\n",
        "    initial = tf.constant(0.1, shape=shape)\n",
        "    return tf.Variable(initial)"
      ],
      "metadata": {
        "id": "ucqTA0Igz52w"
      },
      "execution_count": 30,
      "outputs": []
    },
    {
      "cell_type": "code",
      "source": [
        "# convolution\n",
        "def conv2d(x, W):\n",
        "    return tf.nn.conv2d(x, W, strides=[1, 1, 1, 1], padding='SAME')"
      ],
      "metadata": {
        "id": "pzintjj6z55J"
      },
      "execution_count": 31,
      "outputs": []
    },
    {
      "cell_type": "code",
      "source": [
        "# pooling\n",
        "# [[0,3],\n",
        "#  [4,2]] => 4\n",
        "\n",
        "# [[0,1],\n",
        "#  [1,1]] => 1\n",
        "\n",
        "def max_pool_2x2(x):\n",
        "    return tf.nn.max_pool(x, ksize=[1, 2, 2, 1], strides=[1, 2, 2, 1], padding='SAME')"
      ],
      "metadata": {
        "id": "5c-wiqVAz57y"
      },
      "execution_count": 32,
      "outputs": []
    },
    {
      "cell_type": "code",
      "source": [
        "import tensorflow as tf\n",
        "\n",
        "# Weight initialization using tf.keras.initializers\n",
        "def weight_variable(shape):\n",
        "    initial = tf.keras.initializers.TruncatedNormal(stddev=0.1)(shape)\n",
        "    return tf.Variable(initial)\n"
      ],
      "metadata": {
        "id": "9_c5UnGgz5-U"
      },
      "execution_count": 35,
      "outputs": []
    },
    {
      "cell_type": "code",
      "source": [
        "import tensorflow as tf\n",
        "\n",
        "# Define your image input placeholder using tf.keras.Input\n",
        "x = tf.keras.Input(shape=(image_width, image_height, 1), dtype=tf.float32)\n",
        "\n",
        "# ... (other parts of your code)\n",
        "\n",
        "# First convolutional layer\n",
        "W_conv1 = weight_variable([5, 5, 1, 32])\n",
        "b_conv1 = bias_variable([32])\n",
        "\n",
        "image = tf.reshape(x, [-1, image_width, image_height, 1])\n",
        "h_conv1 = tf.nn.relu(conv2d(image, W_conv1) + b_conv1)\n",
        "h_pool1 = max_pool_2x2(h_conv1)\n",
        "\n",
        "# Second convolutional layer\n",
        "W_conv2 = weight_variable([5, 5, 32, 64])\n",
        "b_conv2 = bias_variable([64])\n",
        "\n",
        "h_conv2 = tf.nn.relu(conv2d(h_pool1, W_conv2) + b_conv2)\n",
        "h_pool2 = max_pool_2x2(h_conv2)\n",
        "\n",
        "# ... (the rest of your code)\n"
      ],
      "metadata": {
        "colab": {
          "base_uri": "https://localhost:8080/"
        },
        "id": "kW4AbVKbz6A0",
        "outputId": "6b39f5e2-234d-41ea-8c7a-0992e2defd71"
      },
      "execution_count": 45,
      "outputs": [
        {
          "output_type": "stream",
          "name": "stderr",
          "text": [
            "WARNING:tensorflow:The following Variables were used in a Lambda layer's call (tf.compat.v1.nn.conv2d), but are not present in its tracked objects:   <tf.Variable 'Variable:0' shape=(5, 5, 1, 32) dtype=float32>. This is a strong indication that the Lambda layer should be rewritten as a subclassed Layer.\n",
            "WARNING:tensorflow:The following Variables were used in a Lambda layer's call (tf.__operators__.add), but are not present in its tracked objects:   <tf.Variable 'Variable:0' shape=(32,) dtype=float32>. This is a strong indication that the Lambda layer should be rewritten as a subclassed Layer.\n",
            "WARNING:tensorflow:The following Variables were used in a Lambda layer's call (tf.compat.v1.nn.conv2d_1), but are not present in its tracked objects:   <tf.Variable 'Variable:0' shape=(5, 5, 32, 64) dtype=float32>. This is a strong indication that the Lambda layer should be rewritten as a subclassed Layer.\n",
            "WARNING:tensorflow:The following Variables were used in a Lambda layer's call (tf.__operators__.add_1), but are not present in its tracked objects:   <tf.Variable 'Variable:0' shape=(64,) dtype=float32>. This is a strong indication that the Lambda layer should be rewritten as a subclassed Layer.\n"
          ]
        }
      ]
    },
    {
      "cell_type": "code",
      "source": [
        "# densely connected layer\n",
        "W_fc1 = weight_variable([7 * 7 * 64, 1024])\n",
        "b_fc1 = bias_variable([1024])\n",
        "\n",
        "# (40000, 7, 7, 64) => (40000, 3136)\n",
        "h_pool2_flat = tf.reshape(h_pool2, [-1, 7*7*64])\n",
        "\n",
        "h_fc1 = tf.nn.relu(tf.matmul(h_pool2_flat, W_fc1) + b_fc1)\n",
        "#print (h_fc1.get_shape()) # => (40000, 1024)"
      ],
      "metadata": {
        "colab": {
          "base_uri": "https://localhost:8080/"
        },
        "id": "rQPRpCBpz6DT",
        "outputId": "ad1f6d11-0068-4ce3-83f4-cbd362290559"
      },
      "execution_count": 46,
      "outputs": [
        {
          "output_type": "stream",
          "name": "stderr",
          "text": [
            "WARNING:tensorflow:The following Variables were used in a Lambda layer's call (tf.linalg.matmul), but are not present in its tracked objects:   <tf.Variable 'Variable:0' shape=(3136, 1024) dtype=float32>. This is a strong indication that the Lambda layer should be rewritten as a subclassed Layer.\n",
            "WARNING:tensorflow:The following Variables were used in a Lambda layer's call (tf.__operators__.add_2), but are not present in its tracked objects:   <tf.Variable 'Variable:0' shape=(1024,) dtype=float32>. This is a strong indication that the Lambda layer should be rewritten as a subclassed Layer.\n"
          ]
        }
      ]
    },
    {
      "cell_type": "code",
      "source": [
        "# ... (other parts of your code)\n",
        "\n",
        "# Fully connected layer\n",
        "W_fc1 = weight_variable([7 * 7 * 64, 1024])\n",
        "b_fc1 = bias_variable([1024])\n",
        "\n",
        "h_pool2_flat = tf.reshape(h_pool2, [-1, 7 * 7 * 64])\n",
        "h_fc1 = tf.nn.relu(tf.matmul(h_pool2_flat, W_fc1) + b_fc1)\n",
        "\n",
        "# Dropout\n",
        "h_fc1_drop = tf.nn.dropout(h_fc1, rate=1 - keep_prob[0])\n",
        "\n",
        "# ... (the rest of your code)\n"
      ],
      "metadata": {
        "colab": {
          "base_uri": "https://localhost:8080/"
        },
        "id": "4r3E9mlWz6Fz",
        "outputId": "6669441c-f919-415a-e864-af72be05193f"
      },
      "execution_count": 51,
      "outputs": [
        {
          "output_type": "stream",
          "name": "stderr",
          "text": [
            "WARNING:tensorflow:The following Variables were used in a Lambda layer's call (tf.linalg.matmul_2), but are not present in its tracked objects:   <tf.Variable 'Variable:0' shape=(3136, 1024) dtype=float32>. This is a strong indication that the Lambda layer should be rewritten as a subclassed Layer.\n",
            "WARNING:tensorflow:The following Variables were used in a Lambda layer's call (tf.__operators__.add_4), but are not present in its tracked objects:   <tf.Variable 'Variable:0' shape=(1024,) dtype=float32>. This is a strong indication that the Lambda layer should be rewritten as a subclassed Layer.\n"
          ]
        }
      ]
    },
    {
      "cell_type": "code",
      "source": [
        "# ... (previous parts of your code)\n",
        "\n",
        "# Readout layer\n",
        "W_fc2 = weight_variable([1024, labels_count])\n",
        "b_fc2 = bias_variable([labels_count])\n",
        "\n",
        "y = tf.nn.softmax(tf.matmul(h_fc1_drop, W_fc2) + b_fc2)\n",
        "\n",
        "# ... (the rest of your code)\n"
      ],
      "metadata": {
        "colab": {
          "base_uri": "https://localhost:8080/"
        },
        "id": "GmbOX_Wcz6IM",
        "outputId": "a2783b98-b2f5-46ff-9f66-28e1fd377839"
      },
      "execution_count": 52,
      "outputs": [
        {
          "output_type": "stream",
          "name": "stderr",
          "text": [
            "WARNING:tensorflow:The following Variables were used in a Lambda layer's call (tf.linalg.matmul_3), but are not present in its tracked objects:   <tf.Variable 'Variable:0' shape=(1024, 891) dtype=float32>. This is a strong indication that the Lambda layer should be rewritten as a subclassed Layer.\n",
            "WARNING:tensorflow:The following Variables were used in a Lambda layer's call (tf.__operators__.add_5), but are not present in its tracked objects:   <tf.Variable 'Variable:0' shape=(891,) dtype=float32>. This is a strong indication that the Lambda layer should be rewritten as a subclassed Layer.\n"
          ]
        }
      ]
    },
    {
      "cell_type": "code",
      "source": [
        "import tensorflow as tf\n",
        "\n",
        "# Define a placeholder for the true labels using tf.keras.Input\n",
        "y_ = tf.keras.Input(shape=(labels_count,), dtype=tf.float32)\n",
        "\n",
        "# ... (other parts of your code)\n",
        "\n",
        "# Cost function\n",
        "cross_entropy = tf.reduce_sum(tf.nn.softmax_cross_entropy_with_logits(labels=y_, logits=y))\n",
        "\n",
        "# Optimization function\n",
        "optimizer = tf.optimizers.Adam(learning_rate=LEARNING_RATE)\n",
        "\n",
        "# Define a function to compute gradients and apply them\n",
        "@tf.function\n",
        "def train_step():\n",
        "    gradients = tape.gradient(cross_entropy, optimizer.variables)\n",
        "    optimizer.apply_gradients(zip(gradients, optimizer.variables))\n",
        "\n",
        "# Evaluation\n",
        "correct_prediction = tf.equal(tf.argmax(y, 1), tf.argmax(y_, 1))\n",
        "accuracy = tf.reduce_mean(tf.cast(correct_prediction, 'float'))\n"
      ],
      "metadata": {
        "id": "cT72OWoTz6Km"
      },
      "execution_count": 59,
      "outputs": []
    },
    {
      "cell_type": "code",
      "source": [
        "# prediction function\n",
        "#[0.1, 0.9, 0.2, 0.1, 0.1 0.3, 0.5, 0.1, 0.2, 0.3] => 1\n",
        "predict = tf.argmax(y,1)"
      ],
      "metadata": {
        "id": "_h5Y1_04z6NF"
      },
      "execution_count": 60,
      "outputs": []
    },
    {
      "cell_type": "code",
      "source": [
        "epochs_completed = 0\n",
        "index_in_epoch = 0\n",
        "num_examples = train_images.shape[0]\n",
        "\n",
        "# serve data by batches\n",
        "def next_batch(batch_size):\n",
        "\n",
        "    global train_images\n",
        "    global train_labels\n",
        "    global index_in_epoch\n",
        "    global epochs_completed\n",
        "\n",
        "    start = index_in_epoch\n",
        "    index_in_epoch += batch_size\n",
        "\n",
        "    # when all trainig data have been already used, it is reorder randomly\n",
        "    if index_in_epoch > num_examples:\n",
        "        # finished epoch\n",
        "        epochs_completed += 1\n",
        "        # shuffle the data\n",
        "        perm = np.arange(num_examples)\n",
        "        np.random.shuffle(perm)\n",
        "        train_images = train_images[perm]\n",
        "        train_labels = train_labels[perm]\n",
        "        # start next epoch\n",
        "        start = 0\n",
        "        index_in_epoch = batch_size\n",
        "        assert batch_size <= num_examples\n",
        "    end = index_in_epoch\n",
        "    return train_images[start:end], train_labels[start:end]"
      ],
      "metadata": {
        "id": "_n_Y6h1Yz6Qi"
      },
      "execution_count": 61,
      "outputs": []
    },
    {
      "cell_type": "code",
      "source": [
        "import tensorflow as tf\n",
        "\n",
        "# Disable eager execution\n",
        "tf.compat.v1.disable_eager_execution()\n",
        "\n",
        "# Now you can use sessions and explicit variable initialization\n",
        "init = tf.compat.v1.global_variables_initializer()\n",
        "\n",
        "with tf.compat.v1.Session() as sess:\n",
        "    sess.run(init)\n",
        "    # Rest of your code with explicit session.run() calls\n"
      ],
      "metadata": {
        "id": "Pt3U4JDU0ut1"
      },
      "execution_count": 67,
      "outputs": []
    },
    {
      "cell_type": "code",
      "source": [
        "import matplotlib.pyplot as plt\n",
        "\n",
        "# ... (your training loop)\n",
        "\n",
        "# Visualize training and validation accuracies\n",
        "plt.figure(figsize=(10, 5))\n",
        "plt.plot(x_range, train_accuracies, label='Training Accuracy')\n",
        "\n",
        "if VALIDATION_SIZE:\n",
        "    plt.plot(x_range, validation_accuracies, label='Validation Accuracy')\n",
        "\n",
        "plt.xlabel('Training Iterations')\n",
        "plt.ylabel('Accuracy')\n",
        "plt.legend()\n",
        "plt.show()\n"
      ],
      "metadata": {
        "colab": {
          "base_uri": "https://localhost:8080/",
          "height": 449
        },
        "id": "A_Uxi5hd0uwd",
        "outputId": "f0ebb7ab-fc4e-4605-f801-42058ecf5a85"
      },
      "execution_count": 69,
      "outputs": [
        {
          "output_type": "display_data",
          "data": {
            "text/plain": [
              "<Figure size 1000x500 with 1 Axes>"
            ],
            "image/png": "[encoded data removed]"
          },
          "metadata": {}
        }
      ]
    }
  ]
}