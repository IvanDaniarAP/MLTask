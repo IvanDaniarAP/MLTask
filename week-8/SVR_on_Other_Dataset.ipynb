{
  "nbformat": 4,
  "nbformat_minor": 0,
  "metadata": {
    "colab": {
      "provenance": [],
      "authorship_tag": "ABX9TyOeSjygkqdu4OnhMvvjmjEW",
      "include_colab_link": true
    },
    "kernelspec": {
      "name": "python3",
      "display_name": "Python 3"
    },
    "language_info": {
      "name": "python"
    }
  },
  "cells": [
    {
      "cell_type": "markdown",
      "metadata": {
        "id": "view-in-github",
        "colab_type": "text"
      },
      "source": [
        "<a href=\"https://colab.research.google.com/github/IvanDaniarAP/MLTask/blob/main/week-8/SVR_on_Other_Dataset.ipynb\" target=\"_parent\"><img src=\"https://colab.research.google.com/assets/colab-badge.svg\" alt=\"Open In Colab\"/></a>"
      ]
    },
    {
      "cell_type": "code",
      "execution_count": null,
      "metadata": {
        "id": "wPdCWw_XrdID"
      },
      "outputs": [],
      "source": [
        "#importing libraries\n",
        "import numpy as np\n",
        "import pandas as pd\n",
        "import matplotlib.pyplot as plt"
      ]
    },
    {
      "cell_type": "code",
      "source": [
        "#importing dataset\n",
        "ds = pd.read_csv('/content/EconomiesOfScale.csv')\n",
        "ds.head()"
      ],
      "metadata": {
        "colab": {
          "base_uri": "https://localhost:8080/",
          "height": 206
        },
        "id": "i6_uer9nrfoY",
        "outputId": "41d12be2-48ef-48c4-8e78-b8bbf367d914"
      },
      "execution_count": null,
      "outputs": [
        {
          "output_type": "execute_result",
          "data": {
            "text/plain": [
              "   Number of Units  Manufacturing Cost\n",
              "0         1.000000           95.066056\n",
              "1         1.185994           96.531750\n",
              "2         1.191499           73.661311\n",
              "3         1.204771           95.566843\n",
              "4         1.298773           98.777013"
            ],
            "text/html": [
              "\n",
              "  <div id=\"df-9cfa306a-1017-4ae3-8554-392e6cb9704f\" class=\"colab-df-container\">\n",
              "    <div>\n",
              "<style scoped>\n",
              "    .dataframe tbody tr th:only-of-type {\n",
              "        vertical-align: middle;\n",
              "    }\n",
              "\n",
              "    .dataframe tbody tr th {\n",
              "        vertical-align: top;\n",
              "    }\n",
              "\n",
              "    .dataframe thead th {\n",
              "        text-align: right;\n",
              "    }\n",
              "</style>\n",
              "<table border=\"1\" class=\"dataframe\">\n",
              "  <thead>\n",
              "    <tr style=\"text-align: right;\">\n",
              "      <th></th>\n",
              "      <th>Number of Units</th>\n",
              "      <th>Manufacturing Cost</th>\n",
              "    </tr>\n",
              "  </thead>\n",
              "  <tbody>\n",
              "    <tr>\n",
              "      <th>0</th>\n",
              "      <td>1.000000</td>\n",
              "      <td>95.066056</td>\n",
              "    </tr>\n",
              "    <tr>\n",
              "      <th>1</th>\n",
              "      <td>1.185994</td>\n",
              "      <td>96.531750</td>\n",
              "    </tr>\n",
              "    <tr>\n",
              "      <th>2</th>\n",
              "      <td>1.191499</td>\n",
              "      <td>73.661311</td>\n",
              "    </tr>\n",
              "    <tr>\n",
              "      <th>3</th>\n",
              "      <td>1.204771</td>\n",
              "      <td>95.566843</td>\n",
              "    </tr>\n",
              "    <tr>\n",
              "      <th>4</th>\n",
              "      <td>1.298773</td>\n",
              "      <td>98.777013</td>\n",
              "    </tr>\n",
              "  </tbody>\n",
              "</table>\n",
              "</div>\n",
              "    <div class=\"colab-df-buttons\">\n",
              "\n",
              "  <div class=\"colab-df-container\">\n",
              "    <button class=\"colab-df-convert\" onclick=\"convertToInteractive('df-9cfa306a-1017-4ae3-8554-392e6cb9704f')\"\n",
              "            title=\"Convert this dataframe to an interactive table.\"\n",
              "            style=\"display:none;\">\n",
              "\n",
              "  <svg xmlns=\"http://www.w3.org/2000/svg\" height=\"24px\" viewBox=\"0 -960 960 960\">\n",
              "    <path d=\"M120-120v-720h720v720H120Zm60-500h600v-160H180v160Zm220 220h160v-160H400v160Zm0 220h160v-160H400v160ZM180-400h160v-160H180v160Zm440 0h160v-160H620v160ZM180-180h160v-160H180v160Zm440 0h160v-160H620v160Z\"/>\n",
              "  </svg>\n",
              "    </button>\n",
              "\n",
              "  <style>\n",
              "    .colab-df-container {\n",
              "      display:flex;\n",
              "      gap: 12px;\n",
              "    }\n",
              "\n",
              "    .colab-df-convert {\n",
              "      background-color: #E8F0FE;\n",
              "      border: none;\n",
              "      border-radius: 50%;\n",
              "      cursor: pointer;\n",
              "      display: none;\n",
              "      fill: #1967D2;\n",
              "      height: 32px;\n",
              "      padding: 0 0 0 0;\n",
              "      width: 32px;\n",
              "    }\n",
              "\n",
              "    .colab-df-convert:hover {\n",
              "      background-color: #E2EBFA;\n",
              "      box-shadow: 0px 1px 2px rgba(60, 64, 67, 0.3), 0px 1px 3px 1px rgba(60, 64, 67, 0.15);\n",
              "      fill: #174EA6;\n",
              "    }\n",
              "\n",
              "    .colab-df-buttons div {\n",
              "      margin-bottom: 4px;\n",
              "    }\n",
              "\n",
              "    [theme=dark] .colab-df-convert {\n",
              "      background-color: #3B4455;\n",
              "      fill: #D2E3FC;\n",
              "    }\n",
              "\n",
              "    [theme=dark] .colab-df-convert:hover {\n",
              "      background-color: #434B5C;\n",
              "      box-shadow: 0px 1px 3px 1px rgba(0, 0, 0, 0.15);\n",
              "      filter: drop-shadow(0px 1px 2px rgba(0, 0, 0, 0.3));\n",
              "      fill: #FFFFFF;\n",
              "    }\n",
              "  </style>\n",
              "\n",
              "    <script>\n",
              "      const buttonEl =\n",
              "        document.querySelector('#df-9cfa306a-1017-4ae3-8554-392e6cb9704f button.colab-df-convert');\n",
              "      buttonEl.style.display =\n",
              "        google.colab.kernel.accessAllowed ? 'block' : 'none';\n",
              "\n",
              "      async function convertToInteractive(key) {\n",
              "        const element = document.querySelector('#df-9cfa306a-1017-4ae3-8554-392e6cb9704f');\n",
              "        const dataTable =\n",
              "          await google.colab.kernel.invokeFunction('convertToInteractive',\n",
              "                                                    [key], {});\n",
              "        if (!dataTable) return;\n",
              "\n",
              "        const docLinkHtml = 'Like what you see? Visit the ' +\n",
              "          '<a target=\"_blank\" href=https://colab.research.google.com/notebooks/data_table.ipynb>data table notebook</a>'\n",
              "          + ' to learn more about interactive tables.';\n",
              "        element.innerHTML = '';\n",
              "        dataTable['output_type'] = 'display_data';\n",
              "        await google.colab.output.renderOutput(dataTable, element);\n",
              "        const docLink = document.createElement('div');\n",
              "        docLink.innerHTML = docLinkHtml;\n",
              "        element.appendChild(docLink);\n",
              "      }\n",
              "    </script>\n",
              "  </div>\n",
              "\n",
              "\n",
              "<div id=\"df-0d190902-ec93-4aa6-ad1c-cbdbe4bdf5dc\">\n",
              "  <button class=\"colab-df-quickchart\" onclick=\"quickchart('df-0d190902-ec93-4aa6-ad1c-cbdbe4bdf5dc')\"\n",
              "            title=\"Suggest charts\"\n",
              "            style=\"display:none;\">\n",
              "\n",
              "<svg xmlns=\"http://www.w3.org/2000/svg\" height=\"24px\"viewBox=\"0 0 24 24\"\n",
              "     width=\"24px\">\n",
              "    <g>\n",
              "        <path d=\"M19 3H5c-1.1 0-2 .9-2 2v14c0 1.1.9 2 2 2h14c1.1 0 2-.9 2-2V5c0-1.1-.9-2-2-2zM9 17H7v-7h2v7zm4 0h-2V7h2v10zm4 0h-2v-4h2v4z\"/>\n",
              "    </g>\n",
              "</svg>\n",
              "  </button>\n",
              "\n",
              "<style>\n",
              "  .colab-df-quickchart {\n",
              "      --bg-color: #E8F0FE;\n",
              "      --fill-color: #1967D2;\n",
              "      --hover-bg-color: #E2EBFA;\n",
              "      --hover-fill-color: #174EA6;\n",
              "      --disabled-fill-color: #AAA;\n",
              "      --disabled-bg-color: #DDD;\n",
              "  }\n",
              "\n",
              "  [theme=dark] .colab-df-quickchart {\n",
              "      --bg-color: #3B4455;\n",
              "      --fill-color: #D2E3FC;\n",
              "      --hover-bg-color: #434B5C;\n",
              "      --hover-fill-color: #FFFFFF;\n",
              "      --disabled-bg-color: #3B4455;\n",
              "      --disabled-fill-color: #666;\n",
              "  }\n",
              "\n",
              "  .colab-df-quickchart {\n",
              "    background-color: var(--bg-color);\n",
              "    border: none;\n",
              "    border-radius: 50%;\n",
              "    cursor: pointer;\n",
              "    display: none;\n",
              "    fill: var(--fill-color);\n",
              "    height: 32px;\n",
              "    padding: 0;\n",
              "    width: 32px;\n",
              "  }\n",
              "\n",
              "  .colab-df-quickchart:hover {\n",
              "    background-color: var(--hover-bg-color);\n",
              "    box-shadow: 0 1px 2px rgba(60, 64, 67, 0.3), 0 1px 3px 1px rgba(60, 64, 67, 0.15);\n",
              "    fill: var(--button-hover-fill-color);\n",
              "  }\n",
              "\n",
              "  .colab-df-quickchart-complete:disabled,\n",
              "  .colab-df-quickchart-complete:disabled:hover {\n",
              "    background-color: var(--disabled-bg-color);\n",
              "    fill: var(--disabled-fill-color);\n",
              "    box-shadow: none;\n",
              "  }\n",
              "\n",
              "  .colab-df-spinner {\n",
              "    border: 2px solid var(--fill-color);\n",
              "    border-color: transparent;\n",
              "    border-bottom-color: var(--fill-color);\n",
              "    animation:\n",
              "      spin 1s steps(1) infinite;\n",
              "  }\n",
              "\n",
              "  @keyframes spin {\n",
              "    0% {\n",
              "      border-color: transparent;\n",
              "      border-bottom-color: var(--fill-color);\n",
              "      border-left-color: var(--fill-color);\n",
              "    }\n",
              "    20% {\n",
              "      border-color: transparent;\n",
              "      border-left-color: var(--fill-color);\n",
              "      border-top-color: var(--fill-color);\n",
              "    }\n",
              "    30% {\n",
              "      border-color: transparent;\n",
              "      border-left-color: var(--fill-color);\n",
              "      border-top-color: var(--fill-color);\n",
              "      border-right-color: var(--fill-color);\n",
              "    }\n",
              "    40% {\n",
              "      border-color: transparent;\n",
              "      border-right-color: var(--fill-color);\n",
              "      border-top-color: var(--fill-color);\n",
              "    }\n",
              "    60% {\n",
              "      border-color: transparent;\n",
              "      border-right-color: var(--fill-color);\n",
              "    }\n",
              "    80% {\n",
              "      border-color: transparent;\n",
              "      border-right-color: var(--fill-color);\n",
              "      border-bottom-color: var(--fill-color);\n",
              "    }\n",
              "    90% {\n",
              "      border-color: transparent;\n",
              "      border-bottom-color: var(--fill-color);\n",
              "    }\n",
              "  }\n",
              "</style>\n",
              "\n",
              "  <script>\n",
              "    async function quickchart(key) {\n",
              "      const quickchartButtonEl =\n",
              "        document.querySelector('#' + key + ' button');\n",
              "      quickchartButtonEl.disabled = true;  // To prevent multiple clicks.\n",
              "      quickchartButtonEl.classList.add('colab-df-spinner');\n",
              "      try {\n",
              "        const charts = await google.colab.kernel.invokeFunction(\n",
              "            'suggestCharts', [key], {});\n",
              "      } catch (error) {\n",
              "        console.error('Error during call to suggestCharts:', error);\n",
              "      }\n",
              "      quickchartButtonEl.classList.remove('colab-df-spinner');\n",
              "      quickchartButtonEl.classList.add('colab-df-quickchart-complete');\n",
              "    }\n",
              "    (() => {\n",
              "      let quickchartButtonEl =\n",
              "        document.querySelector('#df-0d190902-ec93-4aa6-ad1c-cbdbe4bdf5dc button');\n",
              "      quickchartButtonEl.style.display =\n",
              "        google.colab.kernel.accessAllowed ? 'block' : 'none';\n",
              "    })();\n",
              "  </script>\n",
              "</div>\n",
              "    </div>\n",
              "  </div>\n"
            ]
          },
          "metadata": {},
          "execution_count": 13
        }
      ]
    },
    {
      "cell_type": "code",
      "source": [
        "#since position column and level column are one of the same thing we'll take only level column as our independent variable\n",
        "x = ds.iloc[:,1:-1].values\n",
        "y = ds.iloc[:,-1].values\n",
        "print(x)\n",
        "print(y)"
      ],
      "metadata": {
        "colab": {
          "base_uri": "https://localhost:8080/"
        },
        "id": "q1Gks_9zrhdg",
        "outputId": "aafd2c03-c7d4-4a3e-8d08-e6aedbb5be38"
      },
      "execution_count": null,
      "outputs": [
        {
          "output_type": "stream",
          "name": "stdout",
          "text": [
            "[]\n",
            "[ 95.06605578  96.53174997  73.66131056  95.5668425   98.77701266\n",
            " 100.          94.75975637  67.18538349  72.88604061  61.96769605\n",
            "  69.28409692  64.55249643  77.67937742  58.42664546  51.4409698\n",
            "  60.92903611  81.86775617  60.5725967   74.12260141  71.61417311\n",
            "  77.98340868  57.68193975  52.96440828  69.1787313   70.42005203\n",
            "  36.08580039  81.49469151  59.64067983  63.40954945  55.03613926\n",
            "  58.06045968  52.11412489  61.27727337  62.5960052   61.23299391\n",
            "  60.02154297  47.88555562  54.90274827  54.17817589  60.21890139\n",
            "  44.71285113  45.64983585  57.80822022  52.02926301  54.10994815\n",
            "  73.77810164  56.54285158  61.09323474  68.02951817  47.32132667\n",
            "  48.76154994  75.52197014  63.99907453  51.41362716  65.26837002\n",
            "  54.02985162  60.70732964  42.13535314  40.54420656  66.71268413\n",
            "  57.82831989  84.1944303   52.05941671  59.1296489   71.37560808\n",
            "  44.44253942  46.3641551   61.8796408   53.88202578  50.41445044\n",
            "  39.70497833  55.10355617  53.38827224  69.29293716  52.76647821\n",
            "  52.30721696  55.56943095  46.46106513  53.39451655  51.89758778\n",
            "  47.51052846  52.88281275  48.57842453  49.03049916  50.40206506\n",
            "  48.3006527   46.85413944  53.15093042  54.43253575  61.15460445\n",
            "  35.04031845  52.31833727  54.3271593   46.83855483  55.564663\n",
            "  48.25828248  50.21617071  63.47827452  58.19043503  52.7824137\n",
            "  51.46356889  39.55218499  57.48836014  45.1736874   62.61388793\n",
            "  38.75943874  48.72359842  51.5409172   63.46838444  57.94299255\n",
            "  47.03185761  57.28801991  50.82185012  45.30220825  55.15095013\n",
            "  56.15562694  51.23657104  52.67004307  51.22766924  48.14645225\n",
            "  51.7832235   49.84437556  38.82502575  34.43225112  54.2479001\n",
            "  60.88137902  45.29584889  52.6358567   42.3936968   43.47536539\n",
            "  58.64209835  53.35906151  60.33480459  40.35257435  50.33058815\n",
            "  44.11768825  54.46217615  49.37130414  49.06048369  42.48725972\n",
            "  59.19372961  50.1270252   40.93367757  46.30425214  37.12293689\n",
            "  46.14495683  55.57386345  57.91827206  46.50799081  42.50668906\n",
            "  42.23165721  41.4737039   40.64649151  46.45540158  35.13028137\n",
            "  43.25859684  45.61659085  46.57991823  43.44359512  48.92783413\n",
            "  60.14864133  56.18394499  46.81825899  61.16102299  46.01348806\n",
            "  49.19126818  60.60909519  50.61010052  43.93981811  34.2607683\n",
            "  45.49647278  39.44239678  38.22099833  41.62328818  48.23441976\n",
            "  38.03657062  36.27419147  45.63794355  38.21936364  41.44767402\n",
            "  39.08102569  55.79027389  51.34509415  38.33529669  54.68698146\n",
            "  48.17616692  45.40705855  45.21944945  48.96387392  30.1198667\n",
            "  44.87984276  48.58958162  42.07949007  42.19725437  51.08143221\n",
            "  43.39990885  38.49736728  62.6336471   40.29391558  25.46945637\n",
            "  37.3847811   50.71207444  47.6353733   51.91146643  41.29859432\n",
            "  52.94727372  45.58580157  41.53968161  53.91610253  57.86861779\n",
            "  43.67918613  38.75475977  41.12721176  46.49450364  41.28032912\n",
            "  34.93090553  53.43115664  49.37759431  48.17360822  22.75526402\n",
            "  47.4211401   51.81471991  42.87596634  41.7625706   48.38828034\n",
            "  52.51032406  49.20402565  36.11221868  46.12009947  47.65897734\n",
            "  46.2964003   39.15352593  41.07846097  48.38128147  45.06625839\n",
            "  46.13064469  38.93442652  32.75782167  43.08036922  44.88004621\n",
            "  48.41244756  48.36630157  38.11016745  30.99795154  48.37755252\n",
            "  48.75325213  43.37277893  44.85052102  44.52079801  39.28016763\n",
            "  39.8242429   29.06122871  52.41519721  36.53899251  41.97776748\n",
            "  47.33603528  45.3243949   44.31897754  47.94589191  36.6858293\n",
            "  42.25107499  40.38208573  36.00538193  37.00659152  33.93708035\n",
            "  55.60457215  37.4869385   40.92611464  33.68873759  37.57813071\n",
            "  43.56335545  47.56566271  42.91101809  32.87256674  53.73477371\n",
            "  30.93269931  49.71134093  38.32032659  46.60419568  49.39596876\n",
            "  37.32495362  39.53169683  41.49675502  41.81651708  45.80757442\n",
            "  35.62580192  40.80006267  38.03019979  43.00180997  45.46579774\n",
            "  37.00762586  31.73586082  46.30893619  38.34792267  47.82366099\n",
            "  51.60077475  39.66890654  42.27673424  44.81353532  48.50805047\n",
            "  54.86844454  54.86520198  37.5944998   37.89114878  45.9474189\n",
            "  39.27397622  36.54182399  46.51369479  37.74245608  38.02305454\n",
            "  38.98461662  45.18006667  40.27463661  32.18573971  43.38787928\n",
            "  39.06772008  41.12512542  41.86053411  32.16955676  45.07274835\n",
            "  34.29501751  43.07809369  41.53257425  42.96387742  37.64091363\n",
            "  40.48436718  44.48825883  45.46791798  44.90972964  42.76381497\n",
            "  43.07249598  37.03517975  35.3035873   43.62655943  31.22434406\n",
            "  36.87372633  45.14084113  28.02357568  39.66587297  46.29143505\n",
            "  31.55222413  43.3938276   45.01883047  42.87071145  39.89107742\n",
            "  44.56489448  41.8175534   36.53510147  41.92758006  41.78257709\n",
            "  38.8023695   39.20000388  39.41391327  39.55293186  41.53450041\n",
            "  23.28779345  54.60100359  36.57230175  45.2462729   47.35496484\n",
            "  40.99418967  32.47404653  39.45820529  39.00929342  31.02236503\n",
            "  37.87662525  38.49288228  45.24988807  39.64441989  48.31229726\n",
            "  33.43968117  35.69325874  37.80605145  34.34830317  36.07262823\n",
            "  40.96691048  38.9561649   44.44929978  38.30408823  45.03684047\n",
            "  34.83255084  37.71375571  36.36355614  45.69190633  41.60368687\n",
            "  43.33391617  42.98873046  36.20020034  33.71486626  48.4038962\n",
            "  27.53090235  36.56061695  29.96432828  45.30823906  56.98098855\n",
            "  36.56033492  36.44687878  50.10852182  39.5220704   37.51305719\n",
            "  43.19541166  40.00589124  43.97981621  34.98269128  43.77452117\n",
            "  41.15292411  32.45998498  46.39831511  36.00162107  44.05418031\n",
            "  41.17726501  43.0906621   51.59152649  43.01648153  48.14361208\n",
            "  34.97199651  43.83271114  28.01255531  29.31794919  29.11984836\n",
            "  41.68891793  38.17130899  50.81234853  44.14281467  33.95171357\n",
            "  46.34681133  50.8774153   42.97970636  44.17736547  45.67049099\n",
            "  37.71543459  44.15153854  42.0659073   41.04608017  41.40399049\n",
            "  44.84593121  45.3392206   39.88022906  41.10975343  31.22016743\n",
            "  31.09285688  40.07195041  30.26101551  38.66418161  31.57811373\n",
            "  44.14003647  36.42038487  38.80729087  33.51121081  28.92768677\n",
            "  38.75928515  38.23796267  46.50228983  41.14039119  40.59019608\n",
            "  43.23988977  43.97222346  34.94882282  38.89674551  42.20431976\n",
            "  41.18472444  41.50117516  41.26266172  40.13969975  43.95664701\n",
            "  37.12082045  41.33510839  41.06668315  35.96450243  41.03018903\n",
            "  38.1367244   29.80072794  40.16030493  36.70193843  40.26465925\n",
            "  41.2859661   40.17990672  36.02410822  30.46025255  40.61816688\n",
            "  39.93386232  42.54024848  42.12171259  35.89050004  40.15714766\n",
            "  38.25912039  42.03671136  37.56791445  41.9111544   40.06643561\n",
            "  36.12731175  49.99288178  41.18251859  39.50134953  47.23531773\n",
            "  29.75469058  26.73091066  29.82499149  46.44030271  37.09545301\n",
            "  35.10598338  37.77412292  30.22002751  38.92332016  35.91504111\n",
            "  38.8958798   35.00483024  39.89855119  37.316616    40.43381869\n",
            "  38.0286205   34.71299871  31.16960412  41.78015671  30.32130226\n",
            "  45.26398931  39.37905003  43.61814396  49.29137783  39.01406038\n",
            "  33.75200581  38.63448332  35.18462096  38.21968069  43.35371989\n",
            "  29.92610876  42.54050275  42.33654984  40.4541983   36.78029739\n",
            "  35.51201747  29.31243747  44.86296391  41.71176556  46.42356115\n",
            "  43.81636118  38.55760788  35.169072    31.55177592  29.96375241\n",
            "  30.46515914  29.94251996  38.80304077  36.88984878  33.64259864\n",
            "  39.66956921  28.48891379  37.15747701  29.45465644  45.43204497\n",
            "  37.56976429  42.15033562  38.22856398  40.33228937  29.34360027\n",
            "  39.24438787  29.6214267   48.03420811  41.92433636  37.37453157\n",
            "  35.25018558  39.81401608  40.01286841  41.65337146  35.78717647\n",
            "  38.36727089  33.29359415  36.57155213  33.13678805  37.4215521\n",
            "  39.51226522  42.26147129  47.1387715   40.27869404  32.93628653\n",
            "  48.51287989  35.11012812  36.97983371  41.28625768  40.75965084\n",
            "  37.97646973  36.83604189  41.08782226  33.11905694  29.42589725\n",
            "  36.51833674  35.44982162  36.84396868  44.20792141  40.40304103\n",
            "  32.57479762  42.06978602  32.92701532  35.84022023  28.46582664\n",
            "  39.03240509  39.0619489   33.91630554  42.61405703  39.51482603\n",
            "  43.50117145  42.53488424  40.28077065  40.5358884   37.43602186\n",
            "  40.17454385  36.10275458  39.23396405  38.34363836  32.18629405\n",
            "  32.98928453  31.06489525  36.10270546  38.75472855  40.61887013\n",
            "  40.08445682  39.54348869  33.76087795  32.27142748  39.19203679\n",
            "  20.77248294  31.60402774  38.76319331  40.39957839  39.66597901\n",
            "  46.09742515  39.15216146  40.23655958  47.25478791  39.88818495\n",
            "  29.17345186  33.75820129  36.82738404  33.66718203  33.22324052\n",
            "  42.02006999  39.80644797  37.18542975  26.89024675  37.46074694\n",
            "  29.86672189  33.5691843   32.276264    42.64400514  38.73022246\n",
            "  30.21962527  43.13920701  33.90355529  33.94802717  36.40271884\n",
            "  32.77912977  29.62358313  40.54099982  30.50819391  29.92780144\n",
            "  35.66725642  39.09535773  37.69270945  41.88453669  30.08125836\n",
            "  34.98298534  39.6311883   32.85512707  43.84727103  44.37398271\n",
            "  32.60598894  31.06664639  33.20601822  44.36108665  41.33378144\n",
            "  38.10793719  35.36213452  38.52019292  42.41601563  32.7369881\n",
            "  37.4655387   39.39795558  41.22574142  29.08758179  32.07834505\n",
            "  38.09408994  34.59846415  38.58855371  31.0952097   37.01143132\n",
            "  26.53921484  31.78820285  36.25672741  35.94805991  45.67199073\n",
            "  35.55564521  25.2454743   39.03741933  30.44842987  33.41800038\n",
            "  41.6112139   38.773325    39.82189093  30.86180121  36.37767196\n",
            "  38.84915453  26.52141583  35.10531491  33.6766536   30.64724726\n",
            "  28.82009943  35.2369726   31.97106321  40.83713344  35.1904131\n",
            "  31.8193859   36.20049944  28.28684139  25.94636463  33.96475989\n",
            "  33.16479312  39.90129802  35.6134378   35.85114615  31.31789253\n",
            "  33.37594249  36.44661794  33.26811026  30.86976037  33.97319989\n",
            "  31.99631409  34.31035463  40.38804274  35.82128314  35.93949089\n",
            "  28.23953024  35.20712872  32.05217832  33.56988118  32.16102691\n",
            "  28.92812904  38.96003475  33.23349717  33.87583074  37.25520218\n",
            "  34.55060896  35.07196819  30.09979764  39.81157435  35.00456358\n",
            "  29.96348014  33.63464677  39.79028444  32.03674841  37.15347017\n",
            "  30.99861253  33.3091274   39.76943148  38.91302642  30.44289969\n",
            "  36.05232634  26.18172806  35.76668676  33.08430661  31.04997749\n",
            "  32.32823537  41.14045167  35.16581601  38.10650811  31.19150058\n",
            "  32.92912753  33.69213842  29.20552427  37.29065802  35.508299\n",
            "  23.66637286  38.96480478  32.26658315  30.68418603  32.99143863\n",
            "  37.72062167  32.58831174  35.30693771  31.08192305  23.08998642\n",
            "  34.18608496  40.37076302  29.96709154  33.55067539  23.13452348\n",
            "  32.0757134   39.81839608  31.72805563  33.32400656  35.01356678\n",
            "  34.06036657  34.8103577   31.90586     32.65324688  29.63619876\n",
            "  33.37110032  29.22404573  35.23072991  25.08498445  35.77894828\n",
            "  32.3560992   34.11176238  30.35290389  35.30497267  42.87962045\n",
            "  31.03906832  34.19750329  30.07889161  31.9825312   38.25805742\n",
            "  34.7708979   31.94924607  29.69309889  35.13275515  31.73138339\n",
            "  32.7078097   32.37115798  30.89542023  32.06359622  30.74378296\n",
            "  26.06632975  40.8208233   35.08351018  33.8037568   29.51934368\n",
            "  37.1801469   22.41652473  30.16394407  26.64813941  38.12476551\n",
            "  37.72208502  32.69266912  30.80536356  31.24601177  36.68906258\n",
            "  36.48329178  33.55474739  35.07519464  31.13285348  29.83754284\n",
            "  33.99549021  40.42920004  31.35743146  41.03758049  33.31100094\n",
            "  29.29202088  29.63899535  33.91219395  37.90243269  38.50703478\n",
            "  28.8867532   28.29574892  32.11521267  29.67253324  35.28548352\n",
            "  29.27900379  31.55042141  36.01151098  36.82003802  36.3447968\n",
            "  37.93940046  25.33883567  30.1620856   31.54947022  31.76666819\n",
            "  28.76726821  34.39051151  33.27981957  37.86909184  32.20379618\n",
            "  32.78141836  29.29134789  33.67479596  34.47097148  30.79949103\n",
            "  24.7179456   30.0194945   30.23073859  37.42667476  34.80547175\n",
            "  30.26400435  29.63713157  32.14797102  34.53656065  33.62389025\n",
            "  29.05633226  36.09533307  37.28669725  30.83047301  32.21379439\n",
            "  29.99950754  34.69919549  34.24443331  29.29377778  27.55472935\n",
            "  38.42968815  33.41753558  31.66035838  35.62582784  31.37264345\n",
            "  32.82623063  29.78553635  29.32168563  23.67262485  24.77808022\n",
            "  37.76127028  33.35593178  34.4888004   28.59135612  32.38007663\n",
            "  31.98169402  32.92519186  25.30199358  30.83811976  36.11661178\n",
            "  24.70626585  32.45272829  24.23805665  32.28945458  36.20124952\n",
            "  29.91047047  29.11256403  30.90256755  26.51947606  31.66390179\n",
            "  27.61398607  34.23447323  30.1587889   24.79574252  41.25939167\n",
            "  36.1820649   30.22217826  33.20257446  31.99785892  32.371048\n",
            "  25.434653    31.79121537  24.08782178  25.8502678   27.49366784\n",
            "  22.2380554   23.09891425  33.05186511  32.73773578  38.26943878\n",
            "  29.03188657  34.43944946  32.64858694  31.41678346  36.852446\n",
            "  31.49430846  35.99419015  32.80125867  30.75132792  24.72359365\n",
            "  28.75397833  33.3276417   27.90111307  29.1315029   28.34876956\n",
            "  28.76103022  23.53141387  27.53044803  35.86836216  31.8268412\n",
            "  29.51877185  28.2552322   25.04041477  27.80402691  32.4108484\n",
            "  35.27332605  36.08243319  33.09686837  25.31183326  31.22157703\n",
            "  29.98614675  29.32902456  31.23904759  27.24265193  29.16686386\n",
            "  28.60853081  24.79914803  25.16940625  30.75353818  27.70908914\n",
            "  30.2615081   29.86650685  30.52104352  31.92616325  20.\n",
            "  27.59512971  24.700869    24.00002386  22.34981718  26.56988756\n",
            "  23.85506653  27.53654204  25.97378724  25.13831092  21.54777671]\n"
          ]
        }
      ]
    },
    {
      "cell_type": "code",
      "source": [
        "import numpy as np\n",
        "from sklearn.preprocessing import StandardScaler\n",
        "\n",
        "# Assuming x is a 1D array or a DataFrame column\n",
        "x = np.array(x).reshape(-1, 1)\n",
        "\n",
        "# Checking if x is not empty\n",
        "if x.shape[0] > 0:\n",
        "    # Applying feature scaling to x\n",
        "    sc_x = StandardScaler()\n",
        "    x_scaled = sc_x.fit_transform(x)\n",
        "    # Printing the scaled array\n",
        "    print(\"Scaled x:\")\n",
        "    print(x_scaled)\n",
        "else:\n",
        "    print(\"Array x is empty. Please ensure it has data before applying StandardScaler.\")\n"
      ],
      "metadata": {
        "colab": {
          "base_uri": "https://localhost:8080/"
        },
        "id": "sySgAbl0rhuY",
        "outputId": "5a5e9584-1d55-4f4c-abae-5edf598d3c9b"
      },
      "execution_count": 17,
      "outputs": [
        {
          "output_type": "stream",
          "name": "stdout",
          "text": [
            "Array x is empty. Please ensure it has data before applying StandardScaler.\n"
          ]
        }
      ]
    },
    {
      "cell_type": "code",
      "source": [
        "#training the model\n",
        "from sklearn.svm import SVR\n",
        "svr = SVR(kernel = 'rbf')\n",
        "svr.fit(x,y.flatten())"
      ],
      "metadata": {
        "colab": {
          "base_uri": "https://localhost:8080/",
          "height": 75
        },
        "id": "Wv2FoCYmrhxw",
        "outputId": "2daca36a-a9cf-4848-9c11-a94c1f92aaf1"
      },
      "execution_count": null,
      "outputs": [
        {
          "output_type": "execute_result",
          "data": {
            "text/plain": [
              "SVR()"
            ],
            "text/html": [
              "<style>#sk-container-id-1 {color: black;background-color: white;}#sk-container-id-1 pre{padding: 0;}#sk-container-id-1 div.sk-toggleable {background-color: white;}#sk-container-id-1 label.sk-toggleable__label {cursor: pointer;display: block;width: 100%;margin-bottom: 0;padding: 0.3em;box-sizing: border-box;text-align: center;}#sk-container-id-1 label.sk-toggleable__label-arrow:before {content: \"▸\";float: left;margin-right: 0.25em;color: #696969;}#sk-container-id-1 label.sk-toggleable__label-arrow:hover:before {color: black;}#sk-container-id-1 div.sk-estimator:hover label.sk-toggleable__label-arrow:before {color: black;}#sk-container-id-1 div.sk-toggleable__content {max-height: 0;max-width: 0;overflow: hidden;text-align: left;background-color: #f0f8ff;}#sk-container-id-1 div.sk-toggleable__content pre {margin: 0.2em;color: black;border-radius: 0.25em;background-color: #f0f8ff;}#sk-container-id-1 input.sk-toggleable__control:checked~div.sk-toggleable__content {max-height: 200px;max-width: 100%;overflow: auto;}#sk-container-id-1 input.sk-toggleable__control:checked~label.sk-toggleable__label-arrow:before {content: \"▾\";}#sk-container-id-1 div.sk-estimator input.sk-toggleable__control:checked~label.sk-toggleable__label {background-color: #d4ebff;}#sk-container-id-1 div.sk-label input.sk-toggleable__control:checked~label.sk-toggleable__label {background-color: #d4ebff;}#sk-container-id-1 input.sk-hidden--visually {border: 0;clip: rect(1px 1px 1px 1px);clip: rect(1px, 1px, 1px, 1px);height: 1px;margin: -1px;overflow: hidden;padding: 0;position: absolute;width: 1px;}#sk-container-id-1 div.sk-estimator {font-family: monospace;background-color: #f0f8ff;border: 1px dotted black;border-radius: 0.25em;box-sizing: border-box;margin-bottom: 0.5em;}#sk-container-id-1 div.sk-estimator:hover {background-color: #d4ebff;}#sk-container-id-1 div.sk-parallel-item::after {content: \"\";width: 100%;border-bottom: 1px solid gray;flex-grow: 1;}#sk-container-id-1 div.sk-label:hover label.sk-toggleable__label {background-color: #d4ebff;}#sk-container-id-1 div.sk-serial::before {content: \"\";position: absolute;border-left: 1px solid gray;box-sizing: border-box;top: 0;bottom: 0;left: 50%;z-index: 0;}#sk-container-id-1 div.sk-serial {display: flex;flex-direction: column;align-items: center;background-color: white;padding-right: 0.2em;padding-left: 0.2em;position: relative;}#sk-container-id-1 div.sk-item {position: relative;z-index: 1;}#sk-container-id-1 div.sk-parallel {display: flex;align-items: stretch;justify-content: center;background-color: white;position: relative;}#sk-container-id-1 div.sk-item::before, #sk-container-id-1 div.sk-parallel-item::before {content: \"\";position: absolute;border-left: 1px solid gray;box-sizing: border-box;top: 0;bottom: 0;left: 50%;z-index: -1;}#sk-container-id-1 div.sk-parallel-item {display: flex;flex-direction: column;z-index: 1;position: relative;background-color: white;}#sk-container-id-1 div.sk-parallel-item:first-child::after {align-self: flex-end;width: 50%;}#sk-container-id-1 div.sk-parallel-item:last-child::after {align-self: flex-start;width: 50%;}#sk-container-id-1 div.sk-parallel-item:only-child::after {width: 0;}#sk-container-id-1 div.sk-dashed-wrapped {border: 1px dashed gray;margin: 0 0.4em 0.5em 0.4em;box-sizing: border-box;padding-bottom: 0.4em;background-color: white;}#sk-container-id-1 div.sk-label label {font-family: monospace;font-weight: bold;display: inline-block;line-height: 1.2em;}#sk-container-id-1 div.sk-label-container {text-align: center;}#sk-container-id-1 div.sk-container {/* jupyter's `normalize.less` sets `[hidden] { display: none; }` but bootstrap.min.css set `[hidden] { display: none !important; }` so we also need the `!important` here to be able to override the default hidden behavior on the sphinx rendered scikit-learn.org. See: https://github.com/scikit-learn/scikit-learn/issues/21755 */display: inline-block !important;position: relative;}#sk-container-id-1 div.sk-text-repr-fallback {display: none;}</style><div id=\"sk-container-id-1\" class=\"sk-top-container\"><div class=\"sk-text-repr-fallback\"><pre>SVR()</pre><b>In a Jupyter environment, please rerun this cell to show the HTML representation or trust the notebook. <br />On GitHub, the HTML representation is unable to render, please try loading this page with nbviewer.org.</b></div><div class=\"sk-container\" hidden><div class=\"sk-item\"><div class=\"sk-estimator sk-toggleable\"><input class=\"sk-toggleable__control sk-hidden--visually\" id=\"sk-estimator-id-1\" type=\"checkbox\" checked><label for=\"sk-estimator-id-1\" class=\"sk-toggleable__label sk-toggleable__label-arrow\">SVR</label><div class=\"sk-toggleable__content\"><pre>SVR()</pre></div></div></div></div></div>"
            ]
          },
          "metadata": {},
          "execution_count": 5
        }
      ]
    },
    {
      "cell_type": "code",
      "source": [
        "import matplotlib.pyplot as plt\n",
        "import numpy as np\n",
        "from sklearn.preprocessing import StandardScaler\n",
        "from sklearn.svm import SVR\n",
        "\n",
        "# Assuming x and y are populated with data\n",
        "if len(x) > 0 and len(y) > 0:\n",
        "    # Membuat objek StandardScaler untuk penskalaan fitur\n",
        "    sc_x = StandardScaler()\n",
        "    sc_y = StandardScaler()\n",
        "\n",
        "    # Mengubah data x dan y ke dalam bentuk array numpy (asumsi x dan y adalah array atau DataFrame)\n",
        "    x = np.array(x).reshape(-1, 1)\n",
        "    y = np.array(y).reshape(-1, 1)\n",
        "\n",
        "    # Melakukan penskalaan fitur pada data x dan y\n",
        "    x_scaled = sc_x.fit_transform(x)\n",
        "    y_scaled = sc_y.fit_transform(y)\n",
        "\n",
        "    # Membuat objek SVR (Support Vector Regression)\n",
        "    svr = SVR(kernel='rbf')  # Anda dapat memilih kernel yang sesuai dengan data Anda\n",
        "\n",
        "    # Melatih model SVR menggunakan data yang telah diubah skala\n",
        "    svr.fit(x_scaled, y_scaled.ravel())\n",
        "\n",
        "    # Membuat plot scatter dari data asli (sebelum penskalaan)\n",
        "    plt.scatter(sc_x.inverse_transform(x), sc_y.inverse_transform(y), c='red', label='Data Asli')\n",
        "\n",
        "    # Membuat array x untuk prediksi dengan interval yang lebih halus\n",
        "    x_for_pred = np.arange(min(x), max(x), 0.01).reshape(-1, 1)\n",
        "\n",
        "    # Melakukan penskalaan fitur pada data yang akan diprediksi\n",
        "    x_for_pred_scaled = sc_x.transform(x_for_pred)\n",
        "\n",
        "    # Melakukan prediksi dengan model SVR dan melakukan reshape agar menjadi array 2D\n",
        "    y_pred_scaled = svr.predict(x_for_pred_scaled).reshape(-1, 1)\n",
        "\n",
        "    # Membuat plot garis regresi dari model SVR (setelah penskalaan)\n",
        "    plt.plot(sc_x.inverse_transform(x_for_pred), sc_y.inverse_transform(y_pred_scaled), label='SVR Regression', linewidth=2)\n",
        "\n",
        "    # Menambahkan label sumbu x dan y\n",
        "    plt.xlabel('X Label')\n",
        "    plt.ylabel('Y Label')\n",
        "\n",
        "    # Menambahkan judul plot\n",
        "    plt.title('SVR Regression')\n",
        "\n",
        "    # Menampilkan legenda\n",
        "    plt.legend()\n",
        "\n",
        "    # Menampilkan plot\n",
        "    plt.show()\n",
        "\n",
        "else:\n",
        "    print(\"Array x or y is empty. Please ensure both arrays have data before applying StandardScaler.\")\n"
      ],
      "metadata": {
        "colab": {
          "base_uri": "https://localhost:8080/"
        },
        "id": "3tTYfMOirh0z",
        "outputId": "b3398ff5-abad-40f7-bc50-d8f6533acf7c"
      },
      "execution_count": 19,
      "outputs": [
        {
          "output_type": "stream",
          "name": "stdout",
          "text": [
            "Array x or y is empty. Please ensure both arrays have data before applying StandardScaler.\n"
          ]
        }
      ]
    },
    {
      "cell_type": "code",
      "source": [
        "from sklearn.metrics import r2_score\n",
        "\n",
        "# Assuming x and y are populated with data\n",
        "if len(x) > 0 and len(y) > 0:\n",
        "    # Menggunakan fungsi r2_score dari scikit-learn untuk mengukur keakuratan model\n",
        "    # r2_score mengukur seberapa baik model sesuai dengan data yang diberikan\n",
        "    # Lebih tinggi nilai R-squared menunjukkan bahwa model lebih baik sesuai dengan data\n",
        "    # Membandingkan nilai aktual (y) dengan nilai yang diprediksi oleh model SVR (svr.predict(x))\n",
        "    r2_value = r2_score(y, svr.predict(x))\n",
        "\n",
        "    # Menampilkan nilai R-squared sebagai ukuran kualitas model\n",
        "    print(f'R-squared Score: {r2_value}')\n",
        "\n",
        "    # Poin tambahan: Nilai R-squared berkisar antara 0 dan 1.\n",
        "    # Nilai mendekati 1 menunjukkan bahwa model dengan baik memahami variasi dalam data.\n",
        "    # Nilai mendekati 0 menunjukkan bahwa model kurang sesuai dengan data.\n",
        "else:\n",
        "    print(\"Array x or y is empty. Please ensure both arrays have data before calculating R-squared.\")\n"
      ],
      "metadata": {
        "colab": {
          "base_uri": "https://localhost:8080/"
        },
        "id": "0xBoGvxtrh3R",
        "outputId": "ba802819-a1bb-4ade-9bcb-fddca2ab8ba9"
      },
      "execution_count": 21,
      "outputs": [
        {
          "output_type": "stream",
          "name": "stdout",
          "text": [
            "Array x or y is empty. Please ensure both arrays have data before calculating R-squared.\n"
          ]
        }
      ]
    },
    {
      "cell_type": "code",
      "source": [],
      "metadata": {
        "id": "5SUcwwYbrh5g"
      },
      "execution_count": null,
      "outputs": []
    },
    {
      "cell_type": "code",
      "source": [],
      "metadata": {
        "id": "xTsVvGLdrh8B"
      },
      "execution_count": null,
      "outputs": []
    },
    {
      "cell_type": "code",
      "source": [],
      "metadata": {
        "id": "U9hIge3Xrh-q"
      },
      "execution_count": null,
      "outputs": []
    },
    {
      "cell_type": "code",
      "source": [],
      "metadata": {
        "id": "-aE4zoSJriA6"
      },
      "execution_count": null,
      "outputs": []
    },
    {
      "cell_type": "code",
      "source": [],
      "metadata": {
        "id": "uVIsCUz5riC_"
      },
      "execution_count": null,
      "outputs": []
    },
    {
      "cell_type": "code",
      "source": [],
      "metadata": {
        "id": "jighubBnriFA"
      },
      "execution_count": null,
      "outputs": []
    },
    {
      "cell_type": "code",
      "source": [],
      "metadata": {
        "id": "nc6b7a9ariHp"
      },
      "execution_count": null,
      "outputs": []
    },
    {
      "cell_type": "code",
      "source": [],
      "metadata": {
        "id": "D2UM1nk8riJt"
      },
      "execution_count": null,
      "outputs": []
    },
    {
      "cell_type": "code",
      "source": [],
      "metadata": {
        "id": "Mp0VpNsUriMB"
      },
      "execution_count": null,
      "outputs": []
    },
    {
      "cell_type": "code",
      "source": [],
      "metadata": {
        "id": "_D6_uBQ3riOS"
      },
      "execution_count": null,
      "outputs": []
    },
    {
      "cell_type": "code",
      "source": [],
      "metadata": {
        "id": "eZjTnsg4riQm"
      },
      "execution_count": null,
      "outputs": []
    },
    {
      "cell_type": "code",
      "source": [],
      "metadata": {
        "id": "PR3A0Jl-riTD"
      },
      "execution_count": null,
      "outputs": []
    },
    {
      "cell_type": "code",
      "source": [],
      "metadata": {
        "id": "YtH-BVKkriVI"
      },
      "execution_count": null,
      "outputs": []
    },
    {
      "cell_type": "code",
      "source": [],
      "metadata": {
        "id": "L24RTSohriXp"
      },
      "execution_count": null,
      "outputs": []
    },
    {
      "cell_type": "code",
      "source": [],
      "metadata": {
        "id": "RprIjdyAriZw"
      },
      "execution_count": null,
      "outputs": []
    },
    {
      "cell_type": "code",
      "source": [],
      "metadata": {
        "id": "Cex17PedricT"
      },
      "execution_count": null,
      "outputs": []
    },
    {
      "cell_type": "code",
      "source": [],
      "metadata": {
        "id": "l80USo1Zrie7"
      },
      "execution_count": null,
      "outputs": []
    },
    {
      "cell_type": "code",
      "source": [],
      "metadata": {
        "id": "Aa76mEG8rihV"
      },
      "execution_count": null,
      "outputs": []
    },
    {
      "cell_type": "code",
      "source": [],
      "metadata": {
        "id": "NLUF6bmorijx"
      },
      "execution_count": null,
      "outputs": []
    },
    {
      "cell_type": "code",
      "source": [],
      "metadata": {
        "id": "ZsyYur0Urimq"
      },
      "execution_count": null,
      "outputs": []
    },
    {
      "cell_type": "code",
      "source": [],
      "metadata": {
        "id": "bwIX8n4CripK"
      },
      "execution_count": null,
      "outputs": []
    },
    {
      "cell_type": "code",
      "source": [],
      "metadata": {
        "id": "PkVzLV3Xrir3"
      },
      "execution_count": null,
      "outputs": []
    },
    {
      "cell_type": "code",
      "source": [],
      "metadata": {
        "id": "imCw9JCvriur"
      },
      "execution_count": null,
      "outputs": []
    },
    {
      "cell_type": "code",
      "source": [],
      "metadata": {
        "id": "lhMiau_Lrixc"
      },
      "execution_count": null,
      "outputs": []
    },
    {
      "cell_type": "code",
      "source": [],
      "metadata": {
        "id": "5AwvABaMriz8"
      },
      "execution_count": null,
      "outputs": []
    },
    {
      "cell_type": "code",
      "source": [],
      "metadata": {
        "id": "kH3q4PeEri2q"
      },
      "execution_count": null,
      "outputs": []
    },
    {
      "cell_type": "code",
      "source": [],
      "metadata": {
        "id": "IIk_Z8Z1ri5b"
      },
      "execution_count": null,
      "outputs": []
    },
    {
      "cell_type": "code",
      "source": [],
      "metadata": {
        "id": "eiyr0r0nri8R"
      },
      "execution_count": null,
      "outputs": []
    }
  ]
}